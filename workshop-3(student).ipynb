{
 "cells": [
  {
   "cell_type": "markdown",
   "metadata": {},
   "source": [
    "<center><img src=\"https://github.com/aaron-clarusway/fullstack/blob/master/itf-logo.png?raw=true\"  alt=\"alt text\" width=\"200\"/></center>\n",
    "<br>\n",
    "<h1><p style=\"text-align: center; color:darkblue\">Python Basic & Plus</p><h1>\n",
    "<center><h1>Workshop - 3</h1></center>\n",
    "<p><img align=\"right\"\n",
    "  src=\"https://secure.meetupstatic.com/photos/event/3/1/b/9/600_488352729.jpeg\"  width=\"15px\"></p>\n",
    "<br>\n",
    "\n",
    "\n",
    "# Subject: Collections - Control Flow Statements - Functions"
   ]
  },
  {
   "cell_type": "markdown",
   "metadata": {},
   "source": [
    "## Coding Challenge -1 : Validate Combination of Brackets\n",
    "\n",
    "Purpose of the this coding challenge is to solve a combination problem using loops.\n",
    "\n",
    "### Learning Outcomes\n",
    "\n",
    "At the end of the this coding challenge, students will be able to;\n",
    "\n",
    "- understand the use of loops.\n",
    "- solve the advanced and complicated problems.\n",
    "- understand the importance of pattern recognition.\n",
    "- get a better understanding in manipulating lists or strings.\n",
    "\n",
    "### Problem Statement\n",
    "  \n",
    "- Write a function that given a string containing just the characters `(`, `)`, `{`, `}`, `[` and `]`, determines if the input string is valid or not by using following rules.\n",
    "\n",
    "- An input string is valid if:\n",
    "\n",
    "  - Open brackets must be closed by the same type of brackets.\n",
    "\n",
    "  - Open brackets must be closed in the correct order.\n",
    "\n",
    "- Note that an empty string is also considered valid.\n",
    "\n",
    "- Example for user inputs and respective outputs\n",
    "\n",
    "```bash\n",
    "Input        Output\n",
    "--------:    ------:\n",
    "\"()\"         True\n",
    "\"()[]{}\"     True\n",
    "\"(]\"         False\n",
    "\"([)]\"       False\n",
    "\"{[]}\"       True\n",
    "\"\"           True\n",
    "```"
   ]
  },
  {
   "cell_type": "markdown",
   "metadata": {},
   "source": [
    "### Solution :"
   ]
  },
  {
   "cell_type": "code",
   "execution_count": 1,
   "metadata": {},
   "outputs": [
    {
     "name": "stdout",
     "output_type": "stream",
     "text": [
      "Write a string that contains only `(`, `)`, `{`, `}`, `[` and `]`: ([[])}\n",
      "False\n"
     ]
    }
   ],
   "source": [
    "def isvalid(s):\n",
    "    while \"()\" in s or \"[]\" in s or \"{}\" in s:\n",
    "        s=s.replace(\"()\", \"\").replace(\"[]\", \"\").replace(\"{}\", \"\")\n",
    "    return s==\"\"\n",
    "isvalid(\"{}\")"
   ]
  },
  {
   "cell_type": "code",
   "execution_count": 1,
   "metadata": {},
   "outputs": [
    {
     "name": "stdout",
     "output_type": "stream",
     "text": [
      "index giriniz:7\n",
      "yanlis index girdiniz.\n",
      "index giriniz:3\n",
      "Benim favori meyvem orange'dir'\n"
     ]
    }
   ],
   "source": [
    "fruits =[\"mango\",\"strawberry\",\"kiwi\",\"orange\"]\n",
    "\n",
    "while True:\n",
    "    \n",
    "    try :\n",
    "        req=int(input(\"index giriniz:\"))\n",
    "        print(\"Benim favori meyvem {}'dir'\".format(fruits[req]))\n",
    "        break\n",
    "    except IndexError :\n",
    "        print(\"yanlis index girdiniz.\")\n",
    "    except ValueError :\n",
    "        print(\"intrge numeric deger giriniz\")\n",
    "    \n",
    "        "
   ]
  },
  {
   "cell_type": "code",
   "execution_count": null,
   "metadata": {},
   "outputs": [
    {
     "name": "stdout",
     "output_type": "stream",
     "text": [
      "index giriniz:3\n",
      "Benim favori meyvem orange'dir'\n",
      "Dogru giris yaptiniz.\n",
      "Afiyet olsun\n",
      "index giriniz:4\n",
      "yanlis index girdiniz.2 hakkiniz kaldi\n",
      "Afiyet olsun\n",
      "index giriniz:3\n",
      "Benim favori meyvem orange'dir'\n",
      "Dogru giris yaptiniz.\n",
      "Afiyet olsun\n",
      "index giriniz:3\n",
      "Benim favori meyvem orange'dir'\n",
      "Dogru giris yaptiniz.\n",
      "Afiyet olsun\n",
      "index giriniz:3\n",
      "Benim favori meyvem orange'dir'\n",
      "Dogru giris yaptiniz.\n",
      "Afiyet olsun\n",
      "index giriniz:33\n",
      "yanlis index girdiniz.1 hakkiniz kaldi\n",
      "Afiyet olsun\n"
     ]
    }
   ],
   "source": [
    "fruits =[\"mango\",\"strawberry\",\"kiwi\",\"orange\"]\n",
    "count=3\n",
    "while count>0 :\n",
    "    \n",
    "    try :\n",
    "        req=int(input(\"index giriniz:\"))\n",
    "        print(\"Benim favori meyvem {}'dir'\".format(fruits[req]))\n",
    "    except IndexError :\n",
    "        count -= 1\n",
    "        print(f\"yanlis index girdiniz.{count} hakkiniz kaldi\")\n",
    "    except ValueError :\n",
    "        count -=1\n",
    "        print(f\"intrge numeric deger giriniz. {count} hakkiniz kaldi\")\n",
    "    else :\n",
    "        print(\"Dogru giris yaptiniz.\")\n",
    "        break\n",
    "    \n",
    "    finally :\n",
    "        print(\"Afiyet olsun\")\n",
    "    "
   ]
  },
  {
   "cell_type": "code",
   "execution_count": null,
   "metadata": {},
   "outputs": [],
   "source": [
    "def isValid(s):\n",
    "    opening = \"{[(\"\n",
    "    closing = \"}])\"\n",
    "    brackets = {')': '(', '}': '{', ']': '['}\n",
    "    stack = []\n",
    "    for char in s:\n",
    "        if char in opening:\n",
    "            stack.append(char)\n",
    "        elif char in closing:\n",
    "            if len(stack) == 0:\n",
    "                return False\n",
    "            if stack[-1] == brackets[char]:\n",
    "                stack.pop()\n",
    "            else:\n",
    "                return False\n",
    "    return len(stack) == 0"
   ]
  },
  {
   "cell_type": "code",
   "execution_count": null,
   "metadata": {},
   "outputs": [],
   "source": [
    "# Python3 code to Check for\n",
    "# balanced parentheses in an expression\n",
    "open_list = [\"[\",\"{\",\"(\"]\n",
    "close_list = [\"]\",\"}\",\")\"]\n",
    "# Function to check parentheses\n",
    "def check(myStr):\n",
    "    stack = []\n",
    "    for i in myStr:\n",
    "        if i in open_list:\n",
    "            stack.append(i)\n",
    "        elif i in close_list:\n",
    "            pos = close_list.index(i)\n",
    "            if ((len(stack) > 0) and\n",
    "                (open_list[pos] == stack[len(stack)-1])):\n",
    "                stack.pop()\n",
    "            else:\n",
    "                return \"Unbalanced\"\n",
    "    if len(stack) == 0:\n",
    "        return \"Balanced\"\n",
    "    else:\n",
    "        return \"Unbalanced\"\n",
    "# Driver code\n",
    "string = \"{[]{()}}\"\n",
    "print(string, \"-\", check(string))"
   ]
  },
  {
   "cell_type": "markdown",
   "metadata": {},
   "source": [
    "## Coding Challenge - 2: Calculate Stock Profit\n",
    "\n",
    "The purpose of this coding challenge is to write a program that calculates maximum profit you could get from a stock.\n",
    "\n",
    "### Learning Outcomes\n",
    "\n",
    "At the end of this coding challenge, students will be able to;\n",
    "\n",
    "- analyze a problem, identify, and apply programming knowledge for appropriate solution.\n",
    "\n",
    "- design, implement `arithmetic operators` effectively in Python to solve the given problem.\n",
    "\n",
    "- demonstrate their knowledge of algorithmic design principles by solving the problem effectively.\n",
    "\n",
    "### Problem Statement\n",
    "\n",
    "Given an array of numbers representing the stock prices of a company in chronological order, write a function that calculates the maximum profit you could have made from buying and selling that stock once. Note that you must buy before you can sell it.\n",
    "\n",
    "For example, given ``[9, 11, 8, 5, 7, 10]``, you should return 5, since you could buy the stock at 5 dollars and sell it at 10 dollars.\n",
    "\n",
    "Example of different list of stock prices and respective outputs.\n",
    "\n",
    "```bash\n",
    "List = [75,73,60,100,120,130]\n",
    "Output = 70\n",
    "List = [10,20,23,22,17,30]\n",
    "Output = 20\n",
    "List = [1,6,19,59,30,60]\n",
    "Output = 59\n",
    "```"
   ]
  },
  {
   "cell_type": "markdown",
   "metadata": {},
   "source": [
    "### Solution-1 :"
   ]
  },
  {
   "cell_type": "code",
   "execution_count": 2,
   "metadata": {},
   "outputs": [],
   "source": [
    "def stockBuySell(price, n):\n",
    "    if (n == 1):\n",
    "        return\n",
    "    i = 0\n",
    "    while (i < (n - 1)):\n",
    "        while ((i < (n - 1)) and\n",
    "               (price[i + 1] <= price[i])):\n",
    "            i += 1\n",
    "        if (i == n - 1):\n",
    "            break\n",
    "        buy = i\n",
    "        i += 1\n",
    "        while ((i < n) and (price[i] >= price[i - 1])):\n",
    "            i += 1\n",
    "        sell = i - 1\n",
    "        print(\"Buy on day: \", buy, \"\\t\",\n",
    "              \"Sell on day: \", sell)\n",
    "price = []\n",
    "n = len(price)\n",
    "stockBuySell(price, n)"
   ]
  },
  {
   "cell_type": "code",
   "execution_count": 1,
   "metadata": {},
   "outputs": [
    {
     "ename": "NameError",
     "evalue": "name 'buy_and_sell' is not defined",
     "output_type": "error",
     "traceback": [
      "\u001b[1;31m---------------------------------------------------------------------------\u001b[0m",
      "\u001b[1;31mNameError\u001b[0m                                 Traceback (most recent call last)",
      "\u001b[1;32m<ipython-input-1-fe7d3c6bc4ff>\u001b[0m in \u001b[0;36m<module>\u001b[1;34m\u001b[0m\n\u001b[1;32m----> 1\u001b[1;33m \u001b[0mbuy_and_sell\u001b[0m\u001b[1;33m(\u001b[0m\u001b[1;33m[\u001b[0m\u001b[1;36m1\u001b[0m\u001b[1;33m,\u001b[0m\u001b[1;36m45\u001b[0m\u001b[1;33m,\u001b[0m\u001b[1;36m6\u001b[0m\u001b[1;33m,\u001b[0m\u001b[1;36m78\u001b[0m\u001b[1;33m,\u001b[0m\u001b[1;36m9\u001b[0m\u001b[1;33m]\u001b[0m\u001b[1;33m)\u001b[0m\u001b[1;33m\u001b[0m\u001b[1;33m\u001b[0m\u001b[0m\n\u001b[0m",
      "\u001b[1;31mNameError\u001b[0m: name 'buy_and_sell' is not defined"
     ]
    }
   ],
   "source": [
    "buy_and_sell([1,45,6,78,9])"
   ]
  },
  {
   "cell_type": "markdown",
   "metadata": {},
   "source": [
    "### Solution-2 :"
   ]
  },
  {
   "cell_type": "code",
   "execution_count": 8,
   "metadata": {},
   "outputs": [],
   "source": [
    "import module\n",
    "\n",
    "area_1 = module.my_function_1(3,4)\n",
    "area_2 = module.my_function_1(5,6)\n",
    "area_3 = module.my_function_1(6,8)"
   ]
  },
  {
   "cell_type": "code",
   "execution_count": null,
   "metadata": {},
   "outputs": [],
   "source": [
    "import module\n",
    "\n",
    "hypotenuse_1 = module.my_function_2(3,4)\n",
    "hypotenuse_2 = module.my_function_2(6,8)\n",
    "hypotenuse_3 = module.my_function_2(9,12)"
   ]
  },
  {
   "cell_type": "code",
   "execution_count": 9,
   "metadata": {},
   "outputs": [
    {
     "data": {
      "text/plain": [
       "44"
      ]
     },
     "execution_count": 9,
     "metadata": {},
     "output_type": "execute_result"
    }
   ],
   "source": [
    "buy_and_sell([22,33,44,55,66])"
   ]
  },
  {
   "cell_type": "markdown",
   "metadata": {},
   "source": [
    "## Coding Challenge - 3: Morse Translator\n",
    "\n",
    "The purpose of this coding challenge is to write a program that translates the plain text to morse code.\n",
    "\n",
    "### Learning Outcomes\n",
    "\n",
    "At the end of this coding challenge, students will be able to;\n",
    "\n",
    "- Analyze a problem, identify, and apply programming knowledge for an appropriate solution.\n",
    "\n",
    "- Implement loops to solve a problem.\n",
    "\n",
    "- Make use of dictionary data structure to map values. \n",
    "\n",
    "- Demonstrate their knowledge of algorithmic design principles by solving the problem effectively.\n",
    "\n",
    "### Problem Statement\n",
    "\n",
    "Write a function that takes in a plain text as input and converts it into morse alphabet. Following alphabet can be used:\n",
    "\n",
    "```bash\n",
    "{\n",
    "  'A': '.-', 'B': '-...', 'C': '-.-.', 'D': '-..', 'E': '.', 'F': '..-.',\n",
    "  'G': '--.', 'H': '....', 'I': '..', 'J': '.---', 'K': '-.-', 'L': '.-..',\n",
    "  'M': '--', 'N': '-.', 'O': '---', 'P': '.--.', 'Q': '--.-', 'R': '.-.',\n",
    "  'S': '...', 'T': '-', 'U': '..-', 'V': '...-', 'W': '.--', 'X': '-..-',\n",
    "  'Y': '-.--', 'Z': '--..', ' ': ' ', '0': '-----',\n",
    "  '1': '.----', '2': '..---', '3': '...--', '4': '....-', '5': '.....',\n",
    "  '6': '-....', '7': '--...', '8': '---..', '9': '----.',\n",
    "  '&': '.-...', \"'\": '.----.', '@': '.--.-.', ')': '-.--.-', '(': '-.--.',\n",
    "  ':': '---...', ',': '--..--', '=': '-...-', '!': '-.-.--', '.': '.-.-.-',\n",
    "  '-': '-....-', '+': '.-.-.', '\"': '.-..-.', '?': '..--..', '/': '-..-.'\n",
    "}\n",
    "```\n",
    "- Expected Outputs:\n",
    "\n",
    "```bash\n",
    "Input: Hello world!\n",
    "\n",
    "Output:\n",
    ".... . .-.. .-.. ---   .-- --- .-. .-.. -.. -.-.--\n",
    "\n",
    "Input: Good job!\n",
    "\n",
    "Output: --. --- --- -..   .--- --- -... -.-.--\n",
    "```"
   ]
  },
  {
   "cell_type": "markdown",
   "metadata": {},
   "source": [
    "### Solution :"
   ]
  },
  {
   "cell_type": "code",
   "execution_count": 5,
   "metadata": {},
   "outputs": [
    {
     "data": {
      "text/plain": [
       "'-.-. .-.. .- .-. ..- ... .-- .- -.--'"
      ]
     },
     "execution_count": 5,
     "metadata": {},
     "output_type": "execute_result"
    }
   ],
   "source": [
    "encode_morse(\"clarusway\")"
   ]
  },
  {
   "cell_type": "code",
   "execution_count": 3,
   "metadata": {},
   "outputs": [],
   "source": [
    "from datetime import date"
   ]
  },
  {
   "cell_type": "code",
   "execution_count": 6,
   "metadata": {},
   "outputs": [
    {
     "data": {
      "text/plain": [
       "10220"
      ]
     },
     "execution_count": 6,
     "metadata": {},
     "output_type": "execute_result"
    }
   ],
   "source": [
    "birt=date(1993,5,26)\n",
    "now= date(2021,5,19)\n",
    "date.toordinal(now)-date.toordinal(birt)"
   ]
  },
  {
   "cell_type": "markdown",
   "metadata": {},
   "source": [
    "## date.toordinal (year,month,day) formatinda toplam gunu hesapliyor"
   ]
  },
  {
   "cell_type": "code",
   "execution_count": 8,
   "metadata": {},
   "outputs": [],
   "source": [
    "from random import choice"
   ]
  },
  {
   "cell_type": "code",
   "execution_count": 14,
   "metadata": {},
   "outputs": [
    {
     "data": {
      "text/plain": [
       "'istanbul'"
      ]
     },
     "execution_count": 14,
     "metadata": {},
     "output_type": "execute_result"
    }
   ],
   "source": [
    "city=[\"istanbul\",\"Sakarya\",\"Ankara\",\"varsaw\"]\n",
    "choice(city)"
   ]
  },
  {
   "cell_type": "code",
   "execution_count": 19,
   "metadata": {},
   "outputs": [
    {
     "data": {
      "text/plain": [
       "'Krakow'"
      ]
     },
     "execution_count": 19,
     "metadata": {},
     "output_type": "execute_result"
    }
   ],
   "source": [
    "city=[\"istanbul\",\"Sakarya\",\"Ankara\",\"varsaw\",\"Krakow\"]\n",
    "choice(city)"
   ]
  },
  {
   "cell_type": "code",
   "execution_count": null,
   "metadata": {},
   "outputs": [],
   "source": []
  }
 ],
 "metadata": {
  "kernelspec": {
   "display_name": "Python 3",
   "language": "python",
   "name": "python3"
  },
  "language_info": {
   "codemirror_mode": {
    "name": "ipython",
    "version": 3
   },
   "file_extension": ".py",
   "mimetype": "text/x-python",
   "name": "python",
   "nbconvert_exporter": "python",
   "pygments_lexer": "ipython3",
   "version": "3.8.3"
  }
 },
 "nbformat": 4,
 "nbformat_minor": 2
}
